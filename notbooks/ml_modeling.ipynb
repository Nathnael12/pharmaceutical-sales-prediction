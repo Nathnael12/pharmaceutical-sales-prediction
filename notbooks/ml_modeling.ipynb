{
 "cells": [
  {
   "cell_type": "code",
   "execution_count": 1,
   "metadata": {},
   "outputs": [],
   "source": [
    "import numpy as np\n",
    "import pandas as pd\n",
    "import matplotlib.pyplot as plt\n",
    "import seaborn as sns\n",
    "import os\n",
    "import sys\n",
    "import pickle\n",
    "sys.path.append(os.path.abspath(os.path.join('data')))\n",
    "sys.path.insert(0,'../scripts/')\n",
    "import warnings\n",
    "warnings.filterwarnings('ignore')\n",
    "\n",
    "from util import Util\n",
    "from data_cleaner import DataCleaner\n",
    "from model import Model\n",
    "from preprocessor import Preprocessor\n",
    "from datetime import datetime\n",
    "from sklearn.ensemble import RandomForestRegressor"
   ]
  },
  {
   "cell_type": "code",
   "execution_count": 17,
   "metadata": {},
   "outputs": [],
   "source": [
    "util = Util()\n",
    "cleaner = DataCleaner()\n",
    "processor = Preprocessor()"
   ]
  },
  {
   "cell_type": "code",
   "execution_count": 3,
   "metadata": {},
   "outputs": [],
   "source": [
    "# read our merged train and test dataset\n",
    "\n",
    "# repo=\"https://github.com/Nathnael12/pharmaceutical-sales-pridiction.git\"\n",
    "repo=\"../\"\n",
    "\n",
    "# store=util.read_from_dvc(\"data/store.csv\",repo,\"store-v1\",low_memory=False)\n",
    "# complete_test=util.read_from_dvc(\"data/test.csv\",repo,\"test-v2\",low_memory=False)\n",
    "\n",
    "# complete_train=util.read_from_dvc(\"data/train.csv\",repo,\"train-v2\",low_memory=False)\n",
    "\n",
    "complete_train=pd.read_csv('../data/tst.csv')\n",
    "\n"
   ]
  },
  {
   "cell_type": "code",
   "execution_count": 4,
   "metadata": {},
   "outputs": [],
   "source": [
    "complete_train = cleaner.fill_zeros(complete_train, ['PromoInterval'])\n",
    "complete_train = cleaner.convert_to_string(complete_train, ['PromoInterval'])\n",
    "sales_train = complete_train[complete_train['Open'] != 0 ]"
   ]
  },
  {
   "cell_type": "code",
   "execution_count": 9,
   "metadata": {},
   "outputs": [],
   "source": [
    "complete_train2=complete_train.copy()"
   ]
  },
  {
   "cell_type": "code",
   "execution_count": 10,
   "metadata": {},
   "outputs": [],
   "source": [
    "\n",
    "sales_train = complete_train2[complete_train2['Open'] != 0 ]"
   ]
  },
  {
   "cell_type": "code",
   "execution_count": 11,
   "metadata": {},
   "outputs": [],
   "source": [
    "processed_csv = processor.prepare(sales_train)"
   ]
  },
  {
   "cell_type": "code",
   "execution_count": 12,
   "metadata": {},
   "outputs": [],
   "source": [
    "# run this only for the first time\n",
    "# processed_csv.to_csv('../data/processed_csv.csv',index=False)"
   ]
  },
  {
   "cell_type": "code",
   "execution_count": 13,
   "metadata": {},
   "outputs": [],
   "source": [
    "random_forest_args = {\n",
    "    'n_estimators': 100,\n",
    "    'max_depth': 16,\n",
    "    'max_features': 'sqrt',\n",
    "    'n_jobs': 4\n",
    "}"
   ]
  },
  {
   "cell_type": "code",
   "execution_count": 15,
   "metadata": {},
   "outputs": [],
   "source": [
    "modeling = Model(processed_csv, RandomForestRegressor)"
   ]
  },
  {
   "cell_type": "code",
   "execution_count": null,
   "metadata": {},
   "outputs": [],
   "source": [
    "model, result = modeling.train(random_forest_args, 'random_forest_regressor')"
   ]
  },
  {
   "cell_type": "code",
   "execution_count": null,
   "metadata": {},
   "outputs": [],
   "source": [
    "modeling.prediction_graph(result)"
   ]
  }
 ],
 "metadata": {
  "kernelspec": {
   "display_name": "Python 3.10.4 64-bit",
   "language": "python",
   "name": "python3"
  },
  "language_info": {
   "codemirror_mode": {
    "name": "ipython",
    "version": 3
   },
   "file_extension": ".py",
   "mimetype": "text/x-python",
   "name": "python",
   "nbconvert_exporter": "python",
   "pygments_lexer": "ipython3",
   "version": "3.10.4"
  },
  "orig_nbformat": 4,
  "vscode": {
   "interpreter": {
    "hash": "90978d7a57357001f6d0fedca3f3848cad6c097ec2b59b9dd0200233ae8f22ca"
   }
  }
 },
 "nbformat": 4,
 "nbformat_minor": 2
}
