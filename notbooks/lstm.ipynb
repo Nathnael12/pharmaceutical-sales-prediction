{
 "cells": [
  {
   "cell_type": "code",
   "execution_count": 1,
   "metadata": {},
   "outputs": [],
   "source": [
    "import numpy as np\n",
    "import pandas as pd\n",
    "import matplotlib.pyplot as plt\n",
    "import seaborn as sns\n",
    "import os\n",
    "import sys\n",
    "import pickle\n",
    "sys.path.append(os.path.abspath(os.path.join('data')))\n",
    "sys.path.insert(0,'../scripts/')\n",
    "import warnings\n",
    "warnings.filterwarnings('ignore')\n",
    "\n",
    "from util import Util\n",
    "from data_cleaner import DataCleaner\n",
    "from model import Model\n",
    "from preprocessor import Preprocessor\n",
    "from datetime import datetime\n",
    "from sklearn.ensemble import RandomForestRegressor"
   ]
  },
  {
   "cell_type": "code",
   "execution_count": 2,
   "metadata": {},
   "outputs": [],
   "source": [
    "util = Util()\n",
    "cleaner = DataCleaner()\n",
    "processor = Preprocessor()"
   ]
  },
  {
   "cell_type": "code",
   "execution_count": 6,
   "metadata": {},
   "outputs": [
    {
     "name": "stdout",
     "output_type": "stream",
     "text": [
      "Something went wrong! unknown Git revision 'feature-v0'\n"
     ]
    }
   ],
   "source": [
    "# read our merged train and test dataset\n",
    "\n",
    "repo=\"https://github.com/Nathnael12/pharmaceutical-sales-pridiction.git\"\n",
    "# repo=\"../\"\n",
    "\n",
    "feature_engineered_train=util.read_from_dvc(\"data/featured_train.csv\",repo,\"feature-v0\",low_memory=False)\n",
    "\n",
    "# read from local file since dvc is taking too much time\n",
    "#feature_engineered_train=util.read_from_file(\"../data/featured_train.csv\") "
   ]
  },
  {
   "cell_type": "code",
   "execution_count": 4,
   "metadata": {},
   "outputs": [
    {
     "ename": "TypeError",
     "evalue": "'NoneType' object is not subscriptable",
     "output_type": "error",
     "traceback": [
      "\u001b[1;31m---------------------------------------------------------------------------\u001b[0m",
      "\u001b[1;31mTypeError\u001b[0m                                 Traceback (most recent call last)",
      "\u001b[1;32md:\\Projects\\Personal\\python\\10 Academy\\Week 3\\notbooks\\lstm.ipynb Cell 4\u001b[0m in \u001b[0;36m<cell line: 2>\u001b[1;34m()\u001b[0m\n\u001b[0;32m      <a href='vscode-notebook-cell:/d%3A/Projects/Personal/python/10%20Academy/Week%203/notbooks/lstm.ipynb#W3sZmlsZQ%3D%3D?line=0'>1</a>\u001b[0m \u001b[39m# feature_engineered_train[\"Date\"]= pd.DatetimeIndex(feature_engineered_train[\"Day\"].astype(str)+'-' + feature_engineered_train[\"Month\"].astype(str)+'-' + feature_engineered_train[\"Year\"].astype(str))\u001b[39;00m\n\u001b[1;32m----> <a href='vscode-notebook-cell:/d%3A/Projects/Personal/python/10%20Academy/Week%203/notbooks/lstm.ipynb#W3sZmlsZQ%3D%3D?line=1'>2</a>\u001b[0m feature_engineered_train\u001b[39m.\u001b[39mindex\u001b[39m=\u001b[39m feature_engineered_train[\u001b[39m\"\u001b[39;49m\u001b[39mDate\u001b[39;49m\u001b[39m\"\u001b[39;49m]\n",
      "\u001b[1;31mTypeError\u001b[0m: 'NoneType' object is not subscriptable"
     ]
    }
   ],
   "source": [
    "# feature_engineered_train[\"Date\"]= pd.DatetimeIndex(feature_engineered_train[\"Day\"].astype(str)+'-' + feature_engineered_train[\"Month\"].astype(str)+'-' + feature_engineered_train[\"Year\"].astype(str))\n",
    "feature_engineered_train.index= feature_engineered_train[\"Date\"]"
   ]
  },
  {
   "cell_type": "code",
   "execution_count": null,
   "metadata": {},
   "outputs": [],
   "source": [
    "plt.subplots(3,1,figsize=(20,15))\n",
    "plt.subplot(3,1,1)\n",
    "feature_engineered_train.loc['2015']['Sales'].plot()\n",
    "plt.subplot(3,1,2)\n",
    "feature_engineered_train.loc['2014']['Sales'].plot()\n",
    "plt.subplot(3,1,3)\n",
    "feature_engineered_train.loc['2013']['Sales'].plot()\n",
    "plt.show()"
   ]
  },
  {
   "cell_type": "markdown",
   "metadata": {},
   "source": [
    "as seen from the above plot we havea stationary time series data (the way our data changes is uniform over time)"
   ]
  },
  {
   "cell_type": "code",
   "execution_count": null,
   "metadata": {},
   "outputs": [],
   "source": [
    "feature_engineered_train=feature_engineered_train.sort_index()"
   ]
  },
  {
   "cell_type": "code",
   "execution_count": null,
   "metadata": {},
   "outputs": [],
   "source": [
    "ny_df_final=feature_engineered_train.reset_index()[['Date','Sales']].rename({'Date':'ds','Sales':'y'}, axis='columns')"
   ]
  },
  {
   "cell_type": "code",
   "execution_count": null,
   "metadata": {},
   "outputs": [],
   "source": [
    "# y=feature_engineered_train['Sales']\n",
    "# X=feature_engineered_train.drop('Sales',axis=1)\n",
    "\n",
    "input_data=(ny_df_final,feature_engineered_train['Sales'])\n",
    "size=(.8,.2)\n",
    "final_80, train_y, final_20, test_y = util.train_test_split(input_data,size)"
   ]
  },
  {
   "cell_type": "code",
   "execution_count": null,
   "metadata": {},
   "outputs": [],
   "source": [
    "sales_corr=feature_engineered_train.copy()\n",
    "sales_corr[\"Date\"]=pd.DatetimeIndex(feature_engineered_train[\"Day\"].astype(str)+'-' + feature_engineered_train[\"Month\"].astype(str)+'-' + feature_engineered_train[\"Year\"].astype(str))\n"
   ]
  },
  {
   "cell_type": "code",
   "execution_count": null,
   "metadata": {},
   "outputs": [],
   "source": [
    "sales_lag=feature_engineered_train.groupby('Store').agg({\"Sales\":\"sum\"})\n",
    "\n",
    "sales_corr = sales_corr.groupby('Date').agg({\"Sales\":\"sum\"})"
   ]
  },
  {
   "cell_type": "code",
   "execution_count": null,
   "metadata": {},
   "outputs": [],
   "source": [
    "pd.plotting.lag_plot(sales_corr['Sales'],lag=1)\n",
    "# pd.plotting.lag_plot(feature_engineered_train['Sales'],lag=8760)"
   ]
  },
  {
   "cell_type": "code",
   "execution_count": null,
   "metadata": {},
   "outputs": [],
   "source": [
    "\n",
    "pd.plotting.autocorrelation_plot(sales_corr['Sales'].resample(\"1m\").mean())"
   ]
  },
  {
   "cell_type": "markdown",
   "metadata": {},
   "source": [
    "Based on the above plots we can see that their is  a small relationship (linear) between daily data points "
   ]
  },
  {
   "cell_type": "code",
   "execution_count": null,
   "metadata": {},
   "outputs": [],
   "source": [
    "# Let's turn them into numpy arrays\n",
    "X_train, y_train = np.array(train_x), np.array(train_y)\n",
    "print(\"X_train data shape:\", X_train.shape)\n",
    "print(\"y_train data shape:\", y_train.shape)\n",
    "\n",
    "X_test, y_test = np.array(test_x), np.array(test_y)\n",
    "print(\"X_test data shape:\", X_test.shape)\n",
    "print(\"y_test data shape:\", y_test.shape)"
   ]
  },
  {
   "cell_type": "code",
   "execution_count": null,
   "metadata": {},
   "outputs": [],
   "source": [
    "feature_engineered_train"
   ]
  },
  {
   "cell_type": "code",
   "execution_count": null,
   "metadata": {},
   "outputs": [],
   "source": [
    "from fbprophet import Prophet"
   ]
  },
  {
   "cell_type": "code",
   "execution_count": null,
   "metadata": {},
   "outputs": [],
   "source": [
    "from tensorflow.keras.models import Sequential\n",
    "from tensorflow.keras.layers import Dense\n",
    "from tensorflow.keras.layers import LSTM, Bidirectional, Embedding\n",
    "from tensorflow.keras.layers import Dropout\n",
    "from tensorflow.keras.optimizers import Adam, SGD\n",
    "from tensorflow.keras.callbacks import EarlyStopping, ReduceLROnPlateau, ModelCheckpoint, TensorBoard"
   ]
  },
  {
   "cell_type": "code",
   "execution_count": null,
   "metadata": {},
   "outputs": [],
   "source": []
  }
 ],
 "metadata": {
  "kernelspec": {
   "display_name": "Python 3.9.12 ('base')",
   "language": "python",
   "name": "python3"
  },
  "language_info": {
   "codemirror_mode": {
    "name": "ipython",
    "version": 3
   },
   "file_extension": ".py",
   "mimetype": "text/x-python",
   "name": "python",
   "nbconvert_exporter": "python",
   "pygments_lexer": "ipython3",
   "version": "3.9.12"
  },
  "orig_nbformat": 4,
  "vscode": {
   "interpreter": {
    "hash": "cd82c3c0d6e71469cac1e1d7a79146655a609b67b6eababbb4880f72b39cd8bc"
   }
  }
 },
 "nbformat": 4,
 "nbformat_minor": 2
}
