{
 "cells": [
  {
   "cell_type": "code",
   "execution_count": 1,
   "metadata": {},
   "outputs": [],
   "source": [
    "import pandas as pd\n",
    "import numpy as np\n",
    "import seaborn as sns\n",
    "import matplotlib.pyplot as plt\n",
    "\n",
    "import sys\n",
    "sys.path.append(\"../scripts\")\n",
    "# from data_cleaner import Data_cleaner\n",
    "from util import Util\n",
    "from data_cleaner import DataCleaner\n",
    "from plotter import Plotter"
   ]
  },
  {
   "cell_type": "code",
   "execution_count": 2,
   "metadata": {},
   "outputs": [],
   "source": [
    "util = Util()\n",
    "cleaner= DataCleaner()\n",
    "plotter = Plotter()"
   ]
  },
  {
   "cell_type": "markdown",
   "metadata": {},
   "source": [
    "### Our DVC tags are\n",
    "- 'sample-v0' - the original sample_submission dataset\n",
    "- 'store-v0' - the original store dataset\n",
    "- 'store-v1' - the cleaned store dataset\n",
    "- 'test-v0' - the original test dataset\n",
    "- 'test-v1' - the cleaned test dataset\n",
    "- 'train-v0' - the original train dataset\n",
    "- 'train-v1' - the cleaned train dataset"
   ]
  },
  {
   "cell_type": "code",
   "execution_count": 3,
   "metadata": {},
   "outputs": [
    {
     "name": "stderr",
     "output_type": "stream",
     "text": [
      "c:\\Users\\natnael.masresha\\AppData\\Local\\Programs\\Python\\Python310\\lib\\site-packages\\oauth2client\\_helpers.py:255: UserWarning: Cannot access C:\\Users\\natnael.masresha\\AppData\\Local\\Temp\\tmpirnwiikvdvc-clone\\.dvc\\tmp\\gdrive-user-credentials.json: No such file or directory\n",
      "  warnings.warn(_MISSING_FILE_MESSAGE.format(filename))\n"
     ]
    },
    {
     "name": "stdout",
     "output_type": "stream",
     "text": [
      "Go to the following link in your browser:\n",
      "\n",
      "    https://accounts.google.com/o/oauth2/auth?client_id=710796635688-iivsgbgsb6uv1fap6635dhvuei09o66c.apps.googleusercontent.com&redirect_uri=urn%3Aietf%3Awg%3Aoauth%3A2.0%3Aoob&scope=https%3A%2F%2Fwww.googleapis.com%2Fauth%2Fdrive+https%3A%2F%2Fwww.googleapis.com%2Fauth%2Fdrive.appdata&access_type=offline&response_type=code&approval_prompt=force\n",
      "\n",
      "Authentication successful.\n"
     ]
    }
   ],
   "source": [
    "# read our merged train and test dataset\n",
    "\n",
    "repo=\"https://github.com/Nathnael12/pharmaceutical-sales-pridiction.git\"\n",
    "\n",
    "store=util.read_from_dvc(\"data/store.csv\",repo,\"store-v1\",low_memory=False)\n",
    "complete_test=util.read_from_dvc(\"data/test.csv\",repo,\"test-v2\",low_memory=False)\n",
    "complete_train=util.read_from_dvc(\"data/train.csv\",repo,\"train-v2\",low_memory=False)"
   ]
  }
 ],
 "metadata": {
  "kernelspec": {
   "display_name": "Python 3.10.4 64-bit",
   "language": "python",
   "name": "python3"
  },
  "language_info": {
   "codemirror_mode": {
    "name": "ipython",
    "version": 3
   },
   "file_extension": ".py",
   "mimetype": "text/x-python",
   "name": "python",
   "nbconvert_exporter": "python",
   "pygments_lexer": "ipython3",
   "version": "3.10.4"
  },
  "orig_nbformat": 4,
  "vscode": {
   "interpreter": {
    "hash": "90978d7a57357001f6d0fedca3f3848cad6c097ec2b59b9dd0200233ae8f22ca"
   }
  }
 },
 "nbformat": 4,
 "nbformat_minor": 2
}
